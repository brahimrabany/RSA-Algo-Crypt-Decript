{
 "cells": [
  {
   "cell_type": "code",
   "execution_count": 1,
   "id": "61c3f05a",
   "metadata": {},
   "outputs": [
    {
     "data": {
      "application/vnd.jupyter.widget-view+json": {
       "model_id": "685e5294e3ca4daa99026bd45f161fb8",
       "version_major": 2,
       "version_minor": 0
      },
      "text/plain": [
       "VBox(children=(Button(button_style='success', description='Générer une paire de clés RSA', style=ButtonStyle()…"
      ]
     },
     "metadata": {},
     "output_type": "display_data"
    },
    {
     "data": {
      "application/vnd.jupyter.widget-view+json": {
       "model_id": "b285c4ac1669422ebee14a78d4bf0375",
       "version_major": 2,
       "version_minor": 0
      },
      "text/plain": [
       "VBox(children=(Label(value='Saisir le message à chiffrer :'), Text(value=''), Button(button_style='success', d…"
      ]
     },
     "metadata": {},
     "output_type": "display_data"
    },
    {
     "data": {
      "application/vnd.jupyter.widget-view+json": {
       "model_id": "d61f527a968e48e3877bf9758e96c676",
       "version_major": 2,
       "version_minor": 0
      },
      "text/plain": [
       "VBox(children=(Label(value='Saisir le message chiffré en hexadécimal :'), Text(value=''), Button(button_style=…"
      ]
     },
     "metadata": {},
     "output_type": "display_data"
    },
    {
     "data": {
      "application/javascript": [
       "navigator.clipboard.writeText('63005ee38dba3f54a746d3bec1938155097a2a5e3d2080952044b9dbd880aae044ee52755042918afcdc0eb94ee6ce733456f8c30d98c6b3675b02bc955eb06f6d0876fadeccc7e51d64436065280a6ab018f230c66295a076c5508c777c2554a1cfa55299dba04229ce8ffc9e9c973bd9fd44f98a08536e1bd4cd79c6713011f489a945aeaf26759f1638016f1af1b0a04262145b695bdfbc6ec0f5832456f2e0b77d3ed47b2ca001a5fdbeed6c158ef5cfd6e9af17c352d19442d830541e4fd6e458160503b9067a5572926744908417c67050de0d2f1aa2c22b28065cc880eecb4260fd318f256faa119d62739b5d953db9bf828e447222c1da6d62e9614e')"
      ],
      "text/plain": [
       "<IPython.core.display.Javascript object>"
      ]
     },
     "metadata": {},
     "output_type": "display_data"
    }
   ],
   "source": [
    "import ipywidgets as widgets\n",
    "from IPython.display import display ,Javascript\n",
    "from cryptography.hazmat.primitives import serialization\n",
    "from cryptography.hazmat.primitives.asymmetric import rsa, padding\n",
    "from cryptography.hazmat.primitives import hashes\n",
    "\n",
    "\n",
    "\n",
    "def generate_rsa_keys():\n",
    "    private_key = rsa.generate_private_key(\n",
    "        public_exponent=65537,\n",
    "        key_size=2048\n",
    "    )\n",
    "    public_key = private_key.public_key()\n",
    "    return private_key, public_key\n",
    "\n",
    "def encrypt_message(message, public_key):\n",
    "    ciphertext = public_key.encrypt(\n",
    "        message.encode('utf-8'),\n",
    "        padding.OAEP(\n",
    "            mgf=padding.MGF1(algorithm=hashes.SHA256()),\n",
    "            algorithm=hashes.SHA256(),\n",
    "            label=None\n",
    "        )\n",
    "    )\n",
    "    return ciphertext\n",
    "\n",
    "def decrypt_message(ciphertext, private_key):\n",
    "    plaintext = private_key.decrypt(\n",
    "        ciphertext,\n",
    "        padding.OAEP(\n",
    "            mgf=padding.MGF1(algorithm=hashes.SHA256()),\n",
    "            algorithm=hashes.SHA256(),\n",
    "            label=None\n",
    "        )\n",
    "    )\n",
    "    return plaintext.decode('utf-8')\n",
    "\n",
    "\n",
    "private_key, public_key = generate_rsa_keys()\n",
    "\n",
    "def handle_generate_keys_button(b):\n",
    "    private_key, public_key = generate_rsa_keys()\n",
    "    private_key_text.value = private_key.private_bytes(\n",
    "        encoding=serialization.Encoding.PEM,\n",
    "        format=serialization.PrivateFormat.PKCS8,\n",
    "        encryption_algorithm=serialization.NoEncryption()\n",
    "    ).decode()\n",
    "    public_key_text.value = public_key.public_bytes(\n",
    "        encoding=serialization.Encoding.PEM,\n",
    "        format=serialization.PublicFormat.SubjectPublicKeyInfo\n",
    "    ).decode()\n",
    "\n",
    "def handle_encrypt_button(b):\n",
    "    message = message_input.value\n",
    "    ciphertext = encrypt_message(message, public_key)\n",
    "    ciphertext_output.value = ciphertext.hex()\n",
    "\n",
    "def handle_decrypt_button(b):\n",
    "    ciphertext_hex = ciphertext_input.value\n",
    "    ciphertext = bytes.fromhex(ciphertext_hex)\n",
    "    decrypted_message = decrypt_message(ciphertext, private_key)\n",
    "    decrypted_message_output.value = decrypted_message\n",
    "\n",
    "\n",
    "\n",
    "generate_keys_button = widgets.Button(description=\"Générer une paire de clés RSA\", button_style=\"success\")\n",
    "generate_keys_button.on_click(handle_generate_keys_button)\n",
    "\n",
    "encrypt_button = widgets.Button(description=\"Chiffrer le message\", button_style=\"success\")\n",
    "encrypt_button.on_click(handle_encrypt_button)\n",
    "\n",
    "decrypt_button = widgets.Button(description=\"Déchiffrer le message\", button_style=\"success\")\n",
    "decrypt_button.on_click(handle_decrypt_button)\n",
    "\n",
    "private_key_text = widgets.Textarea(rows=5, description=\"Clé privée\")\n",
    "public_key_text = widgets.Textarea(rows=5, description=\"Clé publique\")\n",
    "message_input = widgets.Text()\n",
    "\n",
    "ciphertext_output = widgets.Textarea(description=\"Résultat\")\n",
    "ciphertext_input = widgets.Text()\n",
    "decrypted_message_output = widgets.Textarea(rows=5, description=\"Résultat\")\n",
    "def handle_copy_button(b):\n",
    "    js_code = f\"navigator.clipboard.writeText('{ciphertext_output.value}')\"\n",
    "    display(Javascript(js_code))\n",
    "    \n",
    "copy_button = widgets.Button(description=\"Copier le résultat\", button_style=\"primary\")\n",
    "copy_button.on_click(handle_copy_button)\n",
    "\n",
    "\n",
    "# Affichage des éléments dans la cellule de sortie\n",
    "display(widgets.VBox([generate_keys_button, private_key_text, public_key_text]))\n",
    "display(widgets.VBox([widgets.Label(\"Saisir le message à chiffrer :\"), message_input, encrypt_button, ciphertext_output,copy_button]))\n",
    "display(widgets.VBox([widgets.Label(\"Saisir le message chiffré en hexadécimal :\"), ciphertext_input, decrypt_button, decrypted_message_output]))\n"
   ]
  },
  {
   "cell_type": "code",
   "execution_count": null,
   "id": "98e2f877",
   "metadata": {},
   "outputs": [],
   "source": []
  }
 ],
 "metadata": {
  "kernelspec": {
   "display_name": "Python 3 (ipykernel)",
   "language": "python",
   "name": "python3"
  },
  "language_info": {
   "codemirror_mode": {
    "name": "ipython",
    "version": 3
   },
   "file_extension": ".py",
   "mimetype": "text/x-python",
   "name": "python",
   "nbconvert_exporter": "python",
   "pygments_lexer": "ipython3",
   "version": "3.9.13"
  }
 },
 "nbformat": 4,
 "nbformat_minor": 5
}
